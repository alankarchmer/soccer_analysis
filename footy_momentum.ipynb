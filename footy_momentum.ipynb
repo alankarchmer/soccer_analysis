{
  "nbformat": 4,
  "nbformat_minor": 0,
  "metadata": {
    "colab": {
      "provenance": []
    },
    "kernelspec": {
      "name": "python3",
      "display_name": "Python 3"
    },
    "language_info": {
      "name": "python"
    }
  },
  "cells": [
    {
      "cell_type": "code",
      "execution_count": null,
      "metadata": {
        "id": "BGO-pSyaCZsX"
      },
      "outputs": [],
      "source": [
        "import numpy as np\n",
        "import matplotlib.pyplot as plt\n",
        "\n",
        "# Sample data (replace with real data)\n",
        "time = np.arange(0, 91, 1)\n",
        "team_a_xg = np.random.uniform(0, 0.2, len(time))\n",
        "team_b_xg = np.random.uniform(0, 0.2, len(time))\n",
        "team_a_field_tilt = np.random.uniform(0.4, 0.6, len(time))\n",
        "team_b_field_tilt = 1 - team_a_field_tilt\n",
        "\n",
        "# Weights\n",
        "xg_weight = 0.1\n",
        "field_tilt_weight = 0.9\n",
        "\n",
        "# Calculate Momentum Scores\n",
        "team_a_momentum = xg_weight * team_a_xg + field_tilt_weight * team_a_field_tilt\n",
        "team_b_momentum = xg_weight * team_b_xg + field_tilt_weight * team_b_field_tilt\n",
        "\n",
        "# Calculate the difference in Momentum Scores\n",
        "momentum_diff = team_a_momentum - team_b_momentum\n",
        "\n",
        "# Create the plot\n",
        "fig, ax = plt.subplots(figsize=(10, 6))\n",
        "ax.fill_between(time, 0, momentum_diff, where=(momentum_diff >= 0), color='blue', alpha=0.5, label='Team A')\n",
        "ax.fill_between(time, 0, momentum_diff, where=(momentum_diff < 0), color='red', alpha=0.5, label='Team B')\n",
        "\n",
        "# Add labels, title, and legend\n",
        "ax.set_xlabel(\"Time (minutes)\")\n",
        "ax.set_ylabel(\"Momentum Score Difference\")\n",
        "ax.set_title(\"Momentum Graph\")\n",
        "ax.legend()\n",
        "\n",
        "# Display the plot\n",
        "plt.show()\n"
      ]
    }
  ]
}